{
 "cells": [
  {
   "cell_type": "markdown",
   "metadata": {},
   "source": [
    "# Now Hiring Andrews\n",
    "\n",
    "D2D CRC is hiring Data Scientists! Requirements:\n",
    "- Python, R, or similar\n",
    "- Knowledge of Machine Learning\n",
    "- Name must be **Andrew**, **Nick** or **Sarah**...\n",
    "\n",
    "We work in an office with 40 staff. We have 3 Andrews, 2 Nicks, 2 Sarahs, 2 Grants, and 2 Scotts!\n",
    "\n",
    "On the surface this seems very unlikely, but what's the actualy probability? Some names are much more popular than others, so could it be more common than intuition tells us. Is something similar to the [birthday paradox](https://en.wikipedia.org/wiki/Birthday_problem) happening?\n",
    "\n",
    "The maths grows complicated quickly when you consider that some names aren't uniformly distributed, some names remain popular through the decades, while others follow temporary trends, and the demographic we hire is not representative of the general population. The non-uniform nature of the distribution makes a programatic approach appropriate.\n",
    "\n",
    "A public dataset of name frequencies wasn't available for Australia, but I did find one for the US, with name frequencies for all SSN holders from the years 1880 - 2013. The names will vary between Australia and the US, but it shouldn't affect the result significantly provided the distributions are similar.\n",
    "\n",
    "The data is provided in a single zip file `names.zip` containing a set of csv files named `yobxxxx.txt`, where `xxxx` is the year. Each row has a `name,gender,count` for that year e.g. `Mary,F,7065`\n",
    "\n",
    "Let's sample some of the data for 1984...\n"
   ]
  },
  {
   "cell_type": "code",
   "execution_count": 1,
   "metadata": {
    "scrolled": true
   },
   "outputs": [
    {
     "name": "stdout",
     "output_type": "stream",
     "text": [
      "          name gender  count\n",
      "9806    Leshea      F    6.0\n",
      "11561    Naira      F    5.0\n",
      "9537    Izabel      F    6.0\n",
      "5903     Alesa      F   11.0\n",
      "14997    Armon      M   16.0\n",
      "13412    Lucio      M   55.0\n",
      "5548    Anecia      F   12.0\n",
      "17446   Keneth      M    7.0\n",
      "5160   Shaquan      F   14.0\n",
      "16526   Javell      M    9.0\n"
     ]
    }
   ],
   "source": [
    "import zipfile\n",
    "import numpy as np\n",
    "import pandas as pd\n",
    "\n",
    "# Load one of the files into a dataframe and display a sample\n",
    "df = pd.read_csv(zipfile.ZipFile('names.zip').open('yob1984.txt'), sep=',', header=None, names=['name','gender','count'], dtype={'count': np.float64})\n",
    "print df.sample(10)\n"
   ]
  },
  {
   "cell_type": "markdown",
   "metadata": {},
   "source": [
    "If we sort by the count and plot the top 1000 names it's easy to see that each year is dominated by ~100 names. The long tail of less popular names extends out for 10's of thousands more."
   ]
  },
  {
   "cell_type": "code",
   "execution_count": 2,
   "metadata": {},
   "outputs": [
    {
     "data": {
      "text/plain": [
       "<matplotlib.axes._subplots.AxesSubplot at 0x1146f9510>"
      ]
     },
     "execution_count": 2,
     "metadata": {},
     "output_type": "execute_result"
    },
    {
     "data": {
      "image/png": "[encoded data removed]",
      "text/plain": [
       "<matplotlib.figure.Figure at 0x114652ed0>"
      ]
     },
     "metadata": {},
     "output_type": "display_data"
    }
   ],
   "source": [
    "import matplotlib.pyplot as plt\n",
    "%matplotlib inline\n",
    "\n",
    "# Plot name distribution for the sample year\n",
    "df = df.sort_values(['count'], ascending=False)\n",
    "df.head(1000).reset_index().plot(y='count', use_index=True)\n"
   ]
  },
  {
   "cell_type": "markdown",
   "metadata": {},
   "source": [
    "## Merging Distributions\n",
    "\n",
    "A cursory look across years shows that the popular names vary year-by-year, with a handful of names remaining popular across decades (e.g. Jessica, Daniel).\n",
    "\n",
    "My goal is to build a distribution I can sample for random names that reflects the demographic we hire from. To do this properly I need to merge the distribtions for individual years into a single distribution.\n",
    "\n",
    "The skillset and degrees we hire for tend to attract a younger workforce - I estimate the median age is late 20's, with more younger staff than older. We only hire engineers with University degrees, so the youngest staff we have are ~21.\n",
    "\n",
    "I've modelled this as a chi-squared distribution, plotted below. It starts at 21, peaks in late 20s and tails off to retirement. I'll use this chi-squared distribution to weight contributions for individual years.\n"
   ]
  },
  {
   "cell_type": "code",
   "execution_count": 4,
   "metadata": {},
   "outputs": [
    {
     "data": {
      "image/png": "[encoded data removed]",
      "text/plain": [
       "<matplotlib.figure.Figure at 0x1123c23d0>"
      ]
     },
     "metadata": {},
     "output_type": "display_data"
    }
   ],
   "source": [
    "from scipy import stats\n",
    "\n",
    "# Assume a chi-squared distribution of ages\n",
    "# - 21yr cutoff (graduates)\n",
    "# - mean ~30\n",
    "# - long tail to retirement\n",
    "ageDistribution = np.empty(65)\n",
    "for i in range(0,64):\n",
    "    ageDistribution[i]=stats.chi2.pdf(i-21, 10)\n",
    "plt.plot(ageDistribution)\n",
    "plt.show()\n"
   ]
  },
  {
   "cell_type": "markdown",
   "metadata": {},
   "source": [
    "The counts for each year are loaded into DataFrames, weighted using the chi-squared distribution and merged (summing the count) to give a single distribution of names."
   ]
  },
  {
   "cell_type": "code",
   "execution_count": 5,
   "metadata": {
    "collapsed": true
   },
   "outputs": [],
   "source": [
    "import zipfile\n",
    "\n",
    "merged = pd.DataFrame(columns=['name', 'gender', 'count'])\n",
    "\n",
    "z = zipfile.ZipFile('names.zip')\n",
    "for filename in z.namelist():\n",
    "    # Sample filename: yob1980.txt\n",
    "    year = filename[3:7]\n",
    "    try:\n",
    "        if int(year) < (2017 - 21):\n",
    "            df = pd.read_csv(z.open(filename), sep=',', header=None, names=['name','gender','count'], dtype={'count': np.int32})\n",
    "            # Weight for age probability\n",
    "            df['count'] = df['count'].apply(lambda count: count*ageDistribution[2017-int(year)])\n",
    "            \n",
    "            # Merge into a single distribution\n",
    "            merged = pd.concat([df, merged]).groupby(['name', 'gender'], as_index=False)['count'].sum()\n",
    "    except:\n",
    "        pass\n",
    "z.close()\n",
    "\n",
    "merged = merged.sort_values(['count'], ascending=False)\n"
   ]
  },
  {
   "cell_type": "markdown",
   "metadata": {},
   "source": [
    "Viewing the top names in this distribution tells us the most likely names we'll hire. Already we can see **Andrew** and **Sarah** in the list. We also have a Chris, Matt and Dave in our team, so things are looking promising..."
   ]
  },
  {
   "cell_type": "code",
   "execution_count": 6,
   "metadata": {},
   "outputs": [
    {
     "name": "stdout",
     "output_type": "stream",
     "text": [
      "              name gender         count\n",
      "39095      Michael      M  64513.588913\n",
      "10210  Christopher      M  52966.007838\n",
      "25554      Jessica      F  44825.062864\n",
      "38132      Matthew      M  43885.933866\n",
      "26721       Joshua      M  38480.012620\n",
      "4354        Ashley      F  38048.532879\n",
      "25070     Jennifer      F  36789.904074\n",
      "13136        David      M  36457.944713\n",
      "23459        James      M  34292.861273\n",
      "2044        Amanda      F  34092.645447\n",
      "12345       Daniel      M  33511.804712\n",
      "26109         John      M  30947.101549\n",
      "46283       Robert      M  30801.530949\n",
      "2624        Andrew      M  29518.285341\n",
      "26670       Joseph      M  29235.935695\n",
      "27241       Justin      M  27430.362690\n",
      "47318         Ryan      M  27301.252181\n",
      "48067        Sarah      F  25852.509883\n",
      "59227      William      M  24591.045765\n",
      "24283        Jason      M  23742.710833\n"
     ]
    }
   ],
   "source": [
    "print merged.head(20)"
   ]
  },
  {
   "cell_type": "markdown",
   "metadata": {},
   "source": [
    "## Gender Imbalance\n",
    "\n",
    "We're not quite finished yet - we need to take into account the significant gender imbalance in our industry. Recent estimates put the percentage of females in engineering roles are a sobering [16%](https://business.linkedin.com/talent-solutions/blog/2014/03/women-in-engineering-the-sobering-stats).\n",
    "\n",
    "\n",
    "We'll weight the female names lower as a result, as it's far less likely we'll have female applicants. We have a few non-engineering roles so we'll use a value of 20%. This step is important because looking at the list above it seems that male names are more common. Maybe there's less diversity in male names."
   ]
  },
  {
   "cell_type": "code",
   "execution_count": 7,
   "metadata": {},
   "outputs": [
    {
     "data": {
      "text/plain": [
       "<matplotlib.axes._subplots.AxesSubplot at 0x1148bcd10>"
      ]
     },
     "execution_count": 7,
     "metadata": {},
     "output_type": "execute_result"
    },
    {
     "data": {
      "image/png": "[encoded data removed]",
      "text/plain": [
       "<matplotlib.figure.Figure at 0x116645d10>"
      ]
     },
     "metadata": {},
     "output_type": "display_data"
    }
   ],
   "source": [
    "merged['count'] = merged.apply(lambda row: row['count']*(1-0.2) if row['gender'] == 'M' else row['count']*0.2, axis=1)\n",
    "weighted = merged.sort_values(['count'], ascending=False)\n",
    "\n",
    "weighted = weighted.sort_values(['count'], ascending=False)\n",
    "weighted.head(1000).reset_index().plot(y='count', use_index=True)"
   ]
  },
  {
   "cell_type": "markdown",
   "metadata": {},
   "source": [
    "This distribution looks steeper than our original curve, so the enduring names that span years and gender imbalance do have an effect. The distribution is now dominated by ~50 names."
   ]
  },
  {
   "cell_type": "markdown",
   "metadata": {},
   "source": [
    "## Sampling\n",
    "\n",
    "Now we'll build a function to sample our distribution for random names. Before we do this we'll normalise the counts to convert them to probabilities."
   ]
  },
  {
   "cell_type": "code",
   "execution_count": 12,
   "metadata": {},
   "outputs": [
    {
     "name": "stdout",
     "output_type": "stream",
     "text": [
      "['Thomas' 'Ulysses' 'Alicia' 'Paul' 'Brandon' 'Rafael' 'Kristoffer'\n",
      " 'Kenneth' 'Zachary' 'Louis' 'Diarra' 'Patrick' 'Daniel' 'Aaron' 'Landen'\n",
      " 'William' 'Junior' 'Dominic' 'Chase' 'Thomas' 'Nickolas' 'John' 'John'\n",
      " 'John' 'Joseph' 'Sinjin' 'Lee' 'David' 'Kiona' 'Joseph' 'Michael' 'Willie'\n",
      " 'Bradley' 'Thomas' 'David' 'James' 'Jose' 'Jennifer' 'Robert' 'Eric']\n"
     ]
    }
   ],
   "source": [
    "# Drop gender and normalise probabilities\n",
    "normalised = weighted.drop('gender', axis=1)\n",
    "normalised.columns = ['name','probability']\n",
    "total = sum(normalised['probability'])\n",
    "normalised['probability'] = normalised['probability'].apply(lambda prob: prob/total)\n",
    "\n",
    "\n",
    "def sample(elements, probabilities, num):\n",
    "    # Just use numpy's discrete distribution sampler\n",
    "    return np.random.choice(elements, num, p=probabilities)\n",
    "\n",
    "\n",
    "# Try sampling some random names\n",
    "randomNames = sample(normalised['name'], normalised['probability'], 40)\n",
    "print randomNames"
   ]
  },
  {
   "cell_type": "markdown",
   "metadata": {
    "collapsed": true
   },
   "source": [
    "We also need a function to count repeated names. For simplicity we'll treat all repeated names as equal (pairs, triplets etc)."
   ]
  },
  {
   "cell_type": "code",
   "execution_count": 15,
   "metadata": {},
   "outputs": [
    {
     "name": "stdout",
     "output_type": "stream",
     "text": [
      "4\n"
     ]
    }
   ],
   "source": [
    "from collections import Counter\n",
    "\n",
    "def countRepeats(elements):\n",
    "    # Count the names\n",
    "    nameCounts = Counter(elements)\n",
    "    # Count the counts\n",
    "    countCounts = Counter(nameCounts.values())\n",
    "    # Sum the repeats\n",
    "    repeats = 0\n",
    "    for a,b in countCounts.items():\n",
    "        if a > 1:\n",
    "            repeats = repeats + b\n",
    "    return repeats\n",
    "\n",
    "print countRepeats(randomNames)"
   ]
  },
  {
   "cell_type": "markdown",
   "metadata": {},
   "source": [
    "## Lots of Samples\n",
    "\n",
    "Now we'll count repeats for a large number of random samples. "
   ]
  },
  {
   "cell_type": "code",
   "execution_count": 20,
   "metadata": {},
   "outputs": [
    {
     "name": "stdout",
     "output_type": "stream",
     "text": [
      "[(0, 173), (1, 890), (2, 2081), (3, 2685), (4, 2185), (5, 1283), (6, 503), (7, 162), (8, 33), (9, 4)]\n"
     ]
    }
   ],
   "source": [
    "c = Counter()\n",
    "iterations = 10000\n",
    "orgSize = 40\n",
    "for i in range(1,iterations):\n",
    "    repeats = countRepeats(sample(normalised['name'], normalised['probability'], orgSize))\n",
    "    c[repeats] += 1\n",
    "    \n",
    "print sorted(c.items())"
   ]
  },
  {
   "cell_type": "markdown",
   "metadata": {},
   "source": [
    "We can use the counts to get an approximate probability for the 5 repeated names in our organisation..."
   ]
  },
  {
   "cell_type": "code",
   "execution_count": 21,
   "metadata": {},
   "outputs": [
    {
     "name": "stdout",
     "output_type": "stream",
     "text": [
      "0.1283\n"
     ]
    }
   ],
   "source": [
    "print sorted(c.items())[5][1]/float(iterations)"
   ]
  },
  {
   "cell_type": "markdown",
   "metadata": {},
   "source": [
    "## That Seems High...\n",
    "\n",
    "I started to suspect there was something wrong with the data. Printing the least popular names from our original data set shows that they all have a count of 5. It turns out names with less than 5 instances are omitted from the set for privacy reasons. The long tail isn't long enough!"
   ]
  },
  {
   "cell_type": "code",
   "execution_count": 23,
   "metadata": {},
   "outputs": [
    {
     "name": "stdout",
     "output_type": "stream",
     "text": [
      "          name gender  count\n",
      "2074  Schuyler      M      5\n",
      "2075    Sebron      M      5\n",
      "2076      Shed      M      5\n",
      "2077       Sie      M      5\n",
      "2078   Tilford      M      5\n",
      "2079     Titus      M      5\n",
      "2080     Toney      M      5\n",
      "2081     Verna      M      5\n",
      "2082    Winnie      M      5\n",
      "2083  Winthrop      M      5\n"
     ]
    }
   ],
   "source": [
    "print df.tail(10)"
   ]
  },
  {
   "cell_type": "markdown",
   "metadata": {},
   "source": [
    "Lets check the 1984 sample year. There were 3,669,141 births in the US in 1984. How many are in our data set?"
   ]
  },
  {
   "cell_type": "code",
   "execution_count": 24,
   "metadata": {
    "scrolled": true
   },
   "outputs": [
    {
     "name": "stdout",
     "output_type": "stream",
     "text": [
      "216952\n",
      "94.09%\n"
     ]
    }
   ],
   "source": [
    "total = sum(df['count'])\n",
    "actual = 3669141 \n",
    "delta = actual - total\n",
    "percent = delta/float(actual)\n",
    "\n",
    "print total\n",
    "print '{:0.2f}%'.format(percent*100)"
   ]
  },
  {
   "cell_type": "markdown",
   "metadata": {},
   "source": [
    "It turns out we're only missing ~5% of names, all of which would have a very low probability of occurring. Including these would not change the results significantly."
   ]
  },
  {
   "cell_type": "markdown",
   "metadata": {},
   "source": [
    "## Exporing Further\n",
    "\n",
    "What are the probabilities of having *at least one* repeated name for different organisation sizes? We can work out the probability of having any number of repeated names as 1 - the probability of no repeats, then plot the results for different group sizes."
   ]
  },
  {
   "cell_type": "code",
   "execution_count": 36,
   "metadata": {},
   "outputs": [
    {
     "data": {
      "image/png": "[encoded data removed]",
      "text/plain": [
       "<matplotlib.figure.Figure at 0x114767490>"
      ]
     },
     "metadata": {},
     "output_type": "display_data"
    }
   ],
   "source": [
    "repeatProbability = [None]*50\n",
    "iterations = 1000\n",
    "for size in range(1,50):\n",
    "    c = Counter()\n",
    "    for i in range(1,iterations):\n",
    "        repeats = countRepeats(sample(normalised['name'], normalised['probability'], size))\n",
    "        c[repeats] += 1\n",
    "    repeatProbability[size] = 1.0 - c.items()[0][1]/float(iterations)\n",
    "    \n",
    "plt.plot(repeatProbability)\n",
    "plt.show()    "
   ]
  },
  {
   "cell_type": "markdown",
   "metadata": {},
   "source": [
    "It's easy to see that the probability of repeated names approaches 1 very quickly.\n",
    "\n",
    "For an organisation of 50 or more Software Engineers it's almost guaranteed there will be a duplicate name.\n",
    "\n",
    "The half way point is around ~18 staff. If you have 18 or more Software Engineers in a room there's a > 50% chance you'll have a duplicate name."
   ]
  }
 ],
 "metadata": {
  "kernelspec": {
   "display_name": "Python 2",
   "language": "python",
   "name": "python2"
  },
  "language_info": {
   "codemirror_mode": {
    "name": "ipython",
    "version": 2
   },
   "file_extension": ".py",
   "mimetype": "text/x-python",
   "name": "python",
   "nbconvert_exporter": "python",
   "pygments_lexer": "ipython2",
   "version": "2.7.13"
  }
 },
 "nbformat": 4,
 "nbformat_minor": 2
}
